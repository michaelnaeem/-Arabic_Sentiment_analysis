{
 "cells": [
  {
   "cell_type": "code",
   "execution_count": 28,
   "id": "2b092dbd",
   "metadata": {
    "id": "2b092dbd"
   },
   "outputs": [],
   "source": [
    "import pandas as pd\n",
    "import numpy as np\n",
    "from sklearn import preprocessing\n",
    "from sklearn.model_selection import train_test_split\n",
    "from sklearn.metrics import classification_report\n",
    "from sklearn.feature_extraction.text import TfidfVectorizer\n",
    "# from sklearn.naive_bayes import MultinomialNB\n",
    "from sklearn.svm import SVC\n",
    "import pickle\n",
    "import time"
   ]
  },
  {
   "cell_type": "code",
   "execution_count": 39,
   "id": "73febd56",
   "metadata": {
    "id": "73febd56"
   },
   "outputs": [],
   "source": [
    "df = pd.read_csv(\"datasets/CleanedTrainingDataSetLOCAL.csv\").dropna()"
   ]
  },
  {
   "cell_type": "code",
   "execution_count": 40,
   "id": "db083142",
   "metadata": {},
   "outputs": [],
   "source": [
    "X = df['preprocessed_text'].values\n",
    "y = df['class'].values"
   ]
  },
  {
   "cell_type": "code",
   "execution_count": 41,
   "id": "95c2cecd",
   "metadata": {
    "id": "95c2cecd"
   },
   "outputs": [],
   "source": [
    "X_train, X_test, y_train, y_test = train_test_split(X, y, test_size=0.2, random_state=42)"
   ]
  },
  {
   "cell_type": "code",
   "execution_count": 58,
   "id": "7de2aa56",
   "metadata": {},
   "outputs": [],
   "source": [
    "# Create feature vectors\n",
    "vectorizer = TfidfVectorizer()\n",
    "train_vectors = vectorizer.fit_transform(X_train)\n",
    "test_vectors = vectorizer.transform(X_test)"
   ]
  },
  {
   "cell_type": "code",
   "execution_count": 111,
   "id": "b22dd5c0",
   "metadata": {},
   "outputs": [
    {
     "name": "stdout",
     "output_type": "stream",
     "text": [
      "Training time: 49.684609s; Prediction time: 0.943238s\n",
      "              precision    recall  f1-score   support\n",
      "\n",
      "         NEG       0.86      0.90      0.88      1240\n",
      "         POS       0.88      0.83      0.85      1044\n",
      "\n",
      "    accuracy                           0.87      2284\n",
      "   macro avg       0.87      0.87      0.87      2284\n",
      "weighted avg       0.87      0.87      0.87      2284\n",
      "\n"
     ]
    },
    {
     "data": {
      "text/plain": [
       "0.8686514886164624"
      ]
     },
     "execution_count": 111,
     "metadata": {},
     "output_type": "execute_result"
    }
   ],
   "source": [
    "# Perform classification with SVM, kernel=linear\n",
    "classifier_linear = SVC(kernel='rbf', C=11.0, gamma='scale', probability=True)\n",
    "t0 = time.time()\n",
    "classifier_linear.fit(train_vectors, y_train)\n",
    "t1 = time.time()\n",
    "prediction_linear = classifier_linear.predict(test_vectors)\n",
    "t2 = time.time()\n",
    "time_linear_train = t1-t0\n",
    "time_linear_predict = t2-t1\n",
    "# results\n",
    "print(\"Training time: %fs; Prediction time: %fs\" % (time_linear_train, time_linear_predict))\n",
    "# report = classification_report(y_test, prediction_linear, output_dict=True)\n",
    "print(classification_report(y_test, prediction_linear))\n",
    "# print('positive: ', report['POS'])\n",
    "# print('negative: ', report['NEG'])\n",
    "classifier_linear.score(test_vectors, y_test)"
   ]
  },
  {
   "cell_type": "code",
   "execution_count": 121,
   "id": "bdcc503b",
   "metadata": {},
   "outputs": [
    {
     "name": "stdout",
     "output_type": "stream",
     "text": [
      "93.86822671912853\n"
     ]
    }
   ],
   "source": [
    "review = \"احب\"\n",
    "review_vector = vectorizer.transform([review]) # vectorizing\n",
    "print(classifier_linear.predict_proba(review_vector)[0][1]*100)"
   ]
  },
  {
   "cell_type": "code",
   "execution_count": 47,
   "id": "afd09dd6",
   "metadata": {},
   "outputs": [],
   "source": [
    "# Perform classification with SVM, kernel=linear\n",
    "classifier_linear = SVC(kernel='linear')\n",
    "t0 = time.time()\n",
    "classifier_linear.fit(train_vectors, y_train)\n",
    "t1 = time.time()"
   ]
  },
  {
   "cell_type": "code",
   "execution_count": 48,
   "id": "c1a723e5",
   "metadata": {},
   "outputs": [
    {
     "name": "stdout",
     "output_type": "stream",
     "text": [
      "Training time: 8.053040s; Prediction time: 0.637164s\n"
     ]
    }
   ],
   "source": [
    "prediction_linear = classifier_linear.predict(test_vectors)\n",
    "t2 = time.time()\n",
    "time_linear_train = t1-t0\n",
    "time_linear_predict = t2-t1\n",
    "# results\n",
    "print(\"Training time: %fs; Prediction time: %fs\" % (time_linear_train, time_linear_predict))"
   ]
  },
  {
   "cell_type": "code",
   "execution_count": 49,
   "id": "ad8fdd21",
   "metadata": {},
   "outputs": [
    {
     "name": "stdout",
     "output_type": "stream",
     "text": [
      "positive:  {'precision': 0.882229232386961, 'recall': 0.803639846743295, 'f1-score': 0.8411027568922306, 'support': 1044}\n",
      "negative:  {'precision': 0.846211552888222, 'recall': 0.9096774193548387, 'f1-score': 0.8767975126311697, 'support': 1240}\n"
     ]
    }
   ],
   "source": [
    "report = classification_report(y_test, prediction_linear, output_dict=True)\n",
    "print('positive: ', report['POS'])\n",
    "print('negative: ', report['NEG'])"
   ]
  },
  {
   "cell_type": "code",
   "execution_count": 50,
   "id": "204525c4",
   "metadata": {},
   "outputs": [
    {
     "data": {
      "text/plain": [
       "0.8612084063047285"
      ]
     },
     "execution_count": 50,
     "metadata": {},
     "output_type": "execute_result"
    }
   ],
   "source": [
    "classifier_linear.score(test_vectors, y_test)"
   ]
  },
  {
   "cell_type": "code",
   "execution_count": null,
   "id": "a5b8dc94",
   "metadata": {
    "id": "a5b8dc94"
   },
   "outputs": [],
   "source": [
    "tf = TfidfVectorizer(max_features=2500)"
   ]
  },
  {
   "cell_type": "code",
   "execution_count": null,
   "id": "083b5550",
   "metadata": {
    "id": "de9dd1df",
    "scrolled": true
   },
   "outputs": [],
   "source": [
    "X = tf.fit_transform(df['preprocessed_text']).toarray()\n",
    "y = df['class'].values"
   ]
  },
  {
   "cell_type": "code",
   "execution_count": null,
   "id": "MfUmszgjfiq0",
   "metadata": {
    "id": "MfUmszgjfiq0"
   },
   "outputs": [],
   "source": [
    "modelnb = MultinomialNB()"
   ]
  },
  {
   "cell_type": "code",
   "execution_count": null,
   "id": "yR_57KYbfveR",
   "metadata": {
    "colab": {
     "base_uri": "https://localhost:8080/",
     "height": 75
    },
    "id": "yR_57KYbfveR",
    "outputId": "f5b2bb7a-c4f3-4ad3-cfd6-ca31da6e2215",
    "scrolled": true
   },
   "outputs": [],
   "source": [
    "modelnb.fit(X_train, y_train)"
   ]
  },
  {
   "cell_type": "code",
   "execution_count": null,
   "id": "dZqm3UwrfyTG",
   "metadata": {
    "colab": {
     "base_uri": "https://localhost:8080/"
    },
    "id": "dZqm3UwrfyTG",
    "outputId": "075472c0-905d-4618-a8c1-ee07c527a56b",
    "scrolled": true
   },
   "outputs": [],
   "source": [
    "modelnb.score(X_test, y_test)"
   ]
  },
  {
   "cell_type": "code",
   "execution_count": null,
   "id": "bAllrehJf0bd",
   "metadata": {
    "colab": {
     "base_uri": "https://localhost:8080/"
    },
    "id": "bAllrehJf0bd",
    "outputId": "87f93b23-05e4-43e1-b5ea-3cf73a5c0320"
   },
   "outputs": [],
   "source": [
    "y_pred = modelnb.predict(X_test)\n",
    "print(classification_report(y_test, y_pred))"
   ]
  },
  {
   "cell_type": "code",
   "execution_count": null,
   "id": "624c5cbf",
   "metadata": {
    "id": "624c5cbf"
   },
   "outputs": [],
   "source": [
    "model = SVC(kernel='rbf', C=1.0, gamma='scale')"
   ]
  },
  {
   "cell_type": "code",
   "execution_count": null,
   "id": "ec9d0040",
   "metadata": {
    "colab": {
     "base_uri": "https://localhost:8080/",
     "height": 75
    },
    "id": "ec9d0040",
    "outputId": "a92e0bae-6887-4344-f4bb-e781fee9ba0c"
   },
   "outputs": [],
   "source": [
    "model.fit(X_train, y_train)"
   ]
  },
  {
   "cell_type": "code",
   "execution_count": null,
   "id": "0fa02f96",
   "metadata": {
    "colab": {
     "base_uri": "https://localhost:8080/"
    },
    "id": "0fa02f96",
    "outputId": "de07f428-892c-4e72-a281-b55117ee402e",
    "scrolled": true
   },
   "outputs": [],
   "source": [
    "model.score(X_test, y_test)"
   ]
  },
  {
   "cell_type": "code",
   "execution_count": null,
   "id": "IAHU8RltcBMH",
   "metadata": {
    "colab": {
     "base_uri": "https://localhost:8080/"
    },
    "id": "IAHU8RltcBMH",
    "outputId": "4198118f-a3ee-4059-b1bb-089361322e7b"
   },
   "outputs": [],
   "source": [
    "y_pred = model.predict(X_test)\n",
    "print(classification_report(y_test, y_pred))"
   ]
  },
  {
   "cell_type": "code",
   "execution_count": 123,
   "id": "0f857a24",
   "metadata": {
    "scrolled": true
   },
   "outputs": [],
   "source": [
    "pickle.dump(classifier_linear, open('models/classifier.sav', 'wb'))"
   ]
  },
  {
   "cell_type": "code",
   "execution_count": 124,
   "id": "9a5e9a02",
   "metadata": {},
   "outputs": [],
   "source": [
    "pickle.dump(vectorizer, open('models/vectorizer.sav', 'wb'))"
   ]
  }
 ],
 "metadata": {
  "colab": {
   "provenance": []
  },
  "kernelspec": {
   "display_name": "Python 3 (ipykernel)",
   "language": "python",
   "name": "python3"
  },
  "language_info": {
   "codemirror_mode": {
    "name": "ipython",
    "version": 3
   },
   "file_extension": ".py",
   "mimetype": "text/x-python",
   "name": "python",
   "nbconvert_exporter": "python",
   "pygments_lexer": "ipython3",
   "version": "3.10.5"
  }
 },
 "nbformat": 4,
 "nbformat_minor": 5
}
