{
 "cells": [
  {
   "cell_type": "code",
   "execution_count": null,
   "id": "0c15a6a3",
   "metadata": {
    "scrolled": false
   },
   "outputs": [],
   "source": [
    "import pandas as pd\n",
    "import numpy as np\n",
    "import pickle\n",
    "import PreProcessing\n",
    "import matplotlib.pyplot as plt"
   ]
  },
  {
   "cell_type": "code",
   "execution_count": null,
   "id": "af158842",
   "metadata": {},
   "outputs": [],
   "source": [
    "with open('models/SVC_Classifier.sav', 'rb') as f:\n",
    "    model = pickle.load(f)"
   ]
  },
  {
   "cell_type": "code",
   "execution_count": null,
   "id": "9c830b3f",
   "metadata": {},
   "outputs": [],
   "source": [
    "with open('models/vectorizer.sav', 'rb') as f:\n",
    "    victorizer = pickle.load(f)"
   ]
  },
  {
   "cell_type": "code",
   "execution_count": null,
   "id": "8699cae4",
   "metadata": {},
   "outputs": [],
   "source": [
    "def predict(sentence):\n",
    "    sentence = PreProcessing.SentencePreProcess(sentence)\n",
    "    pred = model.predict(victorizer.transform([sentence]))[0]\n",
    "    percent = round(model.predict_proba(victorizer.transform([sentence]))[0][0]*100, 1)\n",
    "    if pred == 'POS':\n",
    "        return (\"هذه الجملة ايجابية\", percent)\n",
    "    else:\n",
    "        return (\"هذه الجملة سلبية\", percent)"
   ]
  },
  {
   "cell_type": "code",
   "execution_count": null,
   "id": "f3bfcc81",
   "metadata": {},
   "outputs": [],
   "source": [
    "def predict_file(location):\n",
    "    df = PreProcessing.PreProcess(location)\n",
    "    predictions = []\n",
    "    percentages = []\n",
    "    for sentence in df['preprocessed_text']:\n",
    "        predictions.append(model.predict(victorizer.transform([sentence]).toarray())[0])\n",
    "        percentages.append(round(model.predict_proba(victorizer.transform([sentence]))[0][0]*100, 1))\n",
    "    df['class'] = predictions\n",
    "    df['class'] = df['class'].replace(\"POS\",\"Positive\").replace(\"NEG\",\"Negative\")\n",
    "    df['confidence'] = percentages\n",
    "    return df"
   ]
  },
  {
   "cell_type": "code",
   "execution_count": null,
   "id": "1c8022f5",
   "metadata": {},
   "outputs": [],
   "source": [
    "def piechart(df):\n",
    "    labels = df['class'].value_counts().index\n",
    "    sizes = df['class'].value_counts().values\n",
    "    colors = ['lightcoral', 'yellowgreen']\n",
    "    explode = (0.08, 0)\n",
    "    plt.figure(figsize=(2.2, 2.2))\n",
    "    plt.pie(sizes, explode=explode, labels=labels, colors=colors,\n",
    "            autopct='%1.1f%%', shadow=True, startangle=140)\n",
    "    plt.title('Classification Percentages')\n",
    "    plt.axis('equal')\n",
    "    \n",
    "    plt.savefig('assets/frame1/pie_chart.png', transparent = True)"
   ]
  }
 ],
 "metadata": {
  "kernelspec": {
   "display_name": "Python 3 (ipykernel)",
   "language": "python",
   "name": "python3"
  },
  "language_info": {
   "codemirror_mode": {
    "name": "ipython",
    "version": 3
   },
   "file_extension": ".py",
   "mimetype": "text/x-python",
   "name": "python",
   "nbconvert_exporter": "python",
   "pygments_lexer": "ipython3",
   "version": "3.10.5"
  }
 },
 "nbformat": 4,
 "nbformat_minor": 5
}
